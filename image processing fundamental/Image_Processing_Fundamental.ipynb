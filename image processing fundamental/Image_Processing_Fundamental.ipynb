{
  "nbformat": 4,
  "nbformat_minor": 0,
  "metadata": {
    "colab": {
      "name": "Image Processing Fundamental",
      "provenance": [],
      "collapsed_sections": []
    },
    "kernelspec": {
      "name": "python3",
      "display_name": "Python 3"
    },
    "language_info": {
      "name": "python"
    }
  },
  "cells": [
    {
      "cell_type": "code",
      "execution_count": 1,
      "metadata": {
        "colab": {
          "base_uri": "https://localhost:8080/"
        },
        "id": "pPQO5ACxjNOu",
        "outputId": "8a675060-e1a1-4f14-8fbc-d69521a74a97"
      },
      "outputs": [
        {
          "output_type": "stream",
          "name": "stdout",
          "text": [
            "Mounted at /content/drives\n"
          ]
        }
      ],
      "source": [
        "# MENGAMBIL SUMBER GAMBAR DARI GOOGLE DRIVE\n",
        "\n",
        "from google.colab import drive\n",
        "drive.mount('/content/drives')"
      ]
    },
    {
      "cell_type": "code",
      "source": [
        "import cv2\n",
        "from google.colab.patches import cv2_imshow\n",
        "img = cv2.imread('/content/drives/MyDrive/KECERDASAN BUATAN COLLABS/daun.jpg', cv2.IMREAD_UNCHANGED)\n",
        "\n",
        "cv2_imshow(img)"
      ],
      "metadata": {
        "id": "nRAdULwgkCR6"
      },
      "execution_count": null,
      "outputs": []
    },
    {
      "cell_type": "code",
      "source": [
        "print(img)"
      ],
      "metadata": {
        "id": "kSQ9A-xsma3_"
      },
      "execution_count": null,
      "outputs": []
    },
    {
      "cell_type": "code",
      "source": [
        "# UKURAN IMAGE\n",
        "print(img.shape)"
      ],
      "metadata": {
        "id": "T-ZzahGMlKLf"
      },
      "execution_count": 10,
      "outputs": []
    },
    {
      "cell_type": "code",
      "source": [
        "# UKURAN IMAGE\n",
        "import matplotlib.pyplot as plt\n",
        "plt.imshow(img)"
      ],
      "metadata": {
        "id": "2_AmpDP-lQGO"
      },
      "execution_count": null,
      "outputs": []
    },
    {
      "cell_type": "code",
      "source": [
        "# MENGUBAH KE GRAYSCALE\n",
        "img = cv2.imread('/content/drives/MyDrive/KECERDASAN BUATAN COLLABS/daun.jpg', cv2.IMREAD_GRAYSCALE)\n",
        "cv2_imshow(img)"
      ],
      "metadata": {
        "id": "2UuQNHwmlcuS"
      },
      "execution_count": null,
      "outputs": []
    },
    {
      "cell_type": "code",
      "source": [
        "# MENAMPILKAN UKURAN IMAGE\n",
        "print(img.shape)"
      ],
      "metadata": {
        "id": "ubaffwDNlvjC"
      },
      "execution_count": null,
      "outputs": []
    },
    {
      "cell_type": "code",
      "source": [
        "# MENYIMPAN HASIL GRAYSCALE\n",
        "cv2.imwrite('/content/drives/MyDrive/KECERDASAN BUATAN COLLABS/daunGrayscale.jpg', img)"
      ],
      "metadata": {
        "id": "6Vhb0yM0lyqK"
      },
      "execution_count": null,
      "outputs": []
    },
    {
      "cell_type": "code",
      "source": [
        "# CROP IMAGE\n",
        "crop = img[100:200, 100:500]\n",
        "\n",
        "cv2_imshow(crop)\n",
        "cv2.waitKey(0)\n",
        "cv2.destroyAllWindows()\n",
        "print(crop.shape)"
      ],
      "metadata": {
        "id": "n3s29i5AnXaV"
      },
      "execution_count": null,
      "outputs": []
    },
    {
      "cell_type": "code",
      "source": [
        "# COPY IMAGE\n",
        "copy = img.copy()\n",
        "print(copy.shape)"
      ],
      "metadata": {
        "id": "wjgY-wB4n23u"
      },
      "execution_count": null,
      "outputs": []
    },
    {
      "cell_type": "code",
      "source": [
        "# RESIZE IMAGE(IGNORE ASPECT RATIO)\n",
        "resized = cv2.resize(img, (400,400))\n",
        "\n",
        "cv2_imshow(resized)\n",
        "cv2.waitKey(0)\n",
        "cv2.destroyAllWindows()"
      ],
      "metadata": {
        "id": "9xMWe05AoUJ0"
      },
      "execution_count": null,
      "outputs": []
    },
    {
      "cell_type": "code",
      "source": [
        "# RESIZE IMAGE(MEMPERTAHANKAN ASPECT RATIO)\n",
        "r = 400/img.shape[1]\n",
        "dim = (400,int(img.shape[0]*r))\n",
        "resized = cv2.resize(img,dim)\n",
        "\n",
        "cv2_imshow(resized)\n",
        "cv2.waitKey(0)\n",
        "cv2.destroyAllWindows()"
      ],
      "metadata": {
        "id": "OQ0o7GKFp94H"
      },
      "execution_count": null,
      "outputs": []
    },
    {
      "cell_type": "code",
      "source": [
        "# ROTATING IMAGE\n",
        "(h,w) = img.shape[:2]\n",
        "center = (w/2,h/2)\n",
        "\n",
        "M = cv2.getRotationMatrix2D(center, 90, 1.0)\n",
        "rotated = cv2.warpAffine(img, M, (w,h))\n",
        "\n",
        "cv2_imshow(rotated)\n"
      ],
      "metadata": {
        "id": "YYVg1-m4qaMg"
      },
      "execution_count": null,
      "outputs": []
    },
    {
      "cell_type": "code",
      "source": [
        "# ADJUST IMAGE CONTRAST\n",
        "import numpy as np\n",
        "adjusted = cv2.addWeighted(resized, 1.5, np.zeros(resized.shape, resized.dtype), 0, -100)\n",
        "\n",
        "cv2_imshow(resized)\n",
        "cv2_imshow(adjusted)"
      ],
      "metadata": {
        "id": "rrjYNAVSru-V"
      },
      "execution_count": null,
      "outputs": []
    },
    {
      "cell_type": "code",
      "source": [
        "# DETECT EDGES\n",
        "edgess = cv2.Canny(resized, 100,200)\n",
        "\n",
        "cv2_imshow(resized)\n",
        "cv2_imshow(edgess)"
      ],
      "metadata": {
        "id": "D2NMUikJstE2"
      },
      "execution_count": null,
      "outputs": []
    }
  ]
}