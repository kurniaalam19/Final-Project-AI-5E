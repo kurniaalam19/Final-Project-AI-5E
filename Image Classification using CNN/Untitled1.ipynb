{
  "nbformat": 4,
  "nbformat_minor": 0,
  "metadata": {
    "colab": {
      "name": "Untitled1.ipynb",
      "provenance": [],
      "collapsed_sections": []
    },
    "kernelspec": {
      "name": "python3",
      "display_name": "Python 3"
    },
    "language_info": {
      "name": "python"
    }
  },
  "cells": [
    {
      "cell_type": "code",
      "source": [
        "from sklearn.model_selection import train_test_split\n",
        "from sklearn.preprocessing import LabelEncoder\n",
        "from sklearn.metrics import classification_report\n",
        "from tensorflow.keras.models import Sequential\n",
        "from tensorflow.keras.layers import InputLayer, Flatten, Dense, Conv2D, MaxPool2D, Dropout\n",
        "from tensorflow.keras.optimizers import Adam\n",
        "import numpy as np\n",
        "import cv2\n",
        "import glob\n",
        "import matplotlib.pyplot as plt\n",
        "from google.colab.patches import cv2_imshow"
      ],
      "metadata": {
        "id": "ZIcCOrxrkEj6"
      },
      "execution_count": 70,
      "outputs": []
    },
    {
      "cell_type": "code",
      "source": [
        "imagePaths = 'DATASET/'\n",
        "label_list = ['daun kemangi', 'daun pepaya']\n",
        "data = []\n",
        "labels = []"
      ],
      "metadata": {
        "id": "mAvMp0ZPkHpv"
      },
      "execution_count": 80,
      "outputs": []
    },
    {
      "cell_type": "code",
      "source": [
        "for label in label_list:\n",
        "    for imagePath in glob.glob(imagePaths+label+'/*.jpg'):\n",
        "    #print(imagePath)\n",
        "        image = cv2.imread(imagePath)\n",
        "        image = cv2.resize(image, (32, 32))\n",
        "        data.append(image)\n",
        "        labels.append(label)"
      ],
      "metadata": {
        "id": "Drk_W7h1l-vt"
      },
      "execution_count": 81,
      "outputs": []
    },
    {
      "cell_type": "code",
      "source": [
        "np.array(data).shape"
      ],
      "metadata": {
        "colab": {
          "base_uri": "https://localhost:8080/"
        },
        "id": "vslztm2QmBu8",
        "outputId": "f198c49f-ed9a-4606-fa64-ea3e0295718a"
      },
      "execution_count": 82,
      "outputs": [
        {
          "output_type": "execute_result",
          "data": {
            "text/plain": [
              "(4, 32, 32, 3)"
            ]
          },
          "metadata": {},
          "execution_count": 82
        }
      ]
    },
    {
      "cell_type": "code",
      "source": [
        "# ubah type data dari list menjadi array\n",
        "# ubah nilai dari tiap pixel menjadi range [0..1]\n",
        "data = np.array(data, dtype='float') / 255.0\n",
        "labels = np.array(labels)"
      ],
      "metadata": {
        "id": "ESpj4yQVmCXp"
      },
      "execution_count": 83,
      "outputs": []
    },
    {
      "cell_type": "code",
      "source": [
        "print(labels)"
      ],
      "metadata": {
        "colab": {
          "base_uri": "https://localhost:8080/"
        },
        "id": "u7mX-_M9mELh",
        "outputId": "f919190c-46a3-40b8-f45d-87a8301281f2"
      },
      "execution_count": 84,
      "outputs": [
        {
          "output_type": "stream",
          "name": "stdout",
          "text": [
            "['daun kemangi' 'daun kemangi' 'daun kemangi' 'daun kemangi']\n"
          ]
        }
      ]
    },
    {
      "cell_type": "code",
      "source": [
        "# ubah nilai dari labels menjadi binary\n",
        "lb = LabelEncoder()\n",
        "labels = lb.fit_transform(labels)\n",
        "print(labels)"
      ],
      "metadata": {
        "colab": {
          "base_uri": "https://localhost:8080/"
        },
        "id": "YiOtProLmFnL",
        "outputId": "c114a1ad-2319-4f1e-f1d1-d6d51a718288"
      },
      "execution_count": 85,
      "outputs": [
        {
          "output_type": "stream",
          "name": "stdout",
          "text": [
            "[0 0 0 0]\n"
          ]
        }
      ]
    },
    {
      "cell_type": "code",
      "source": [
        "x_train, x_test, y_train, y_test = train_test_split(data, labels, test_size=0.2, random_state=42)"
      ],
      "metadata": {
        "id": "p6FxcnYLmH4P"
      },
      "execution_count": 86,
      "outputs": []
    },
    {
      "cell_type": "code",
      "source": [
        "print('Ukuran data train =', x_train.shape)\n",
        "print('Ukuran data test =', x_test.shape)"
      ],
      "metadata": {
        "colab": {
          "base_uri": "https://localhost:8080/"
        },
        "id": "Z3i2VyibmK0D",
        "outputId": "e11c6f06-ef70-40a7-b425-5137589d6589"
      },
      "execution_count": 87,
      "outputs": [
        {
          "output_type": "stream",
          "name": "stdout",
          "text": [
            "Ukuran data train = (3, 32, 32, 3)\n",
            "Ukuran data test = (1, 32, 32, 3)\n"
          ]
        }
      ]
    },
    {
      "cell_type": "code",
      "source": [
        "model = Sequential()\n",
        "# Extracted Feature Layer\n",
        "model.add(InputLayer(input_shape=[32,32,3]))\n",
        "model.add(Conv2D(filters=32, kernel_size=2, strides=1, padding='same', activation='relu'))\n",
        "model.add(MaxPool2D(pool_size=2, padding='same'))\n",
        "model.add(Conv2D(filters=50, kernel_size=2, strides=1, padding='same', activation='relu'))\n",
        "model.add(MaxPool2D(pool_size=2, padding='same'))\n",
        "model.add(Dropout(0.25))\n",
        "model.add(Flatten())\n",
        "# Fully Connected Layer\\n\",\n",
        "model.add(Dense(512, activation='relu'))\n",
        "model.add(Dropout(0.5))\n",
        "model.add(Dense(1, activation='sigmoid'))"
      ],
      "metadata": {
        "id": "GX1ZFI3TmMjH"
      },
      "execution_count": 88,
      "outputs": []
    },
    {
      "cell_type": "code",
      "source": [
        "model.summary()"
      ],
      "metadata": {
        "colab": {
          "base_uri": "https://localhost:8080/"
        },
        "id": "GXmZb44gmO7N",
        "outputId": "52e47e14-35b1-40aa-80e7-9de4cee10aa1"
      },
      "execution_count": 89,
      "outputs": [
        {
          "output_type": "stream",
          "name": "stdout",
          "text": [
            "Model: \"sequential_2\"\n",
            "_________________________________________________________________\n",
            " Layer (type)                Output Shape              Param #   \n",
            "=================================================================\n",
            " conv2d_4 (Conv2D)           (None, 32, 32, 32)        416       \n",
            "                                                                 \n",
            " max_pooling2d_4 (MaxPooling  (None, 16, 16, 32)       0         \n",
            " 2D)                                                             \n",
            "                                                                 \n",
            " conv2d_5 (Conv2D)           (None, 16, 16, 50)        6450      \n",
            "                                                                 \n",
            " max_pooling2d_5 (MaxPooling  (None, 8, 8, 50)         0         \n",
            " 2D)                                                             \n",
            "                                                                 \n",
            " dropout_4 (Dropout)         (None, 8, 8, 50)          0         \n",
            "                                                                 \n",
            " flatten_2 (Flatten)         (None, 3200)              0         \n",
            "                                                                 \n",
            " dense_4 (Dense)             (None, 512)               1638912   \n",
            "                                                                 \n",
            " dropout_5 (Dropout)         (None, 512)               0         \n",
            "                                                                 \n",
            " dense_5 (Dense)             (None, 1)                 513       \n",
            "                                                                 \n",
            "=================================================================\n",
            "Total params: 1,646,291\n",
            "Trainable params: 1,646,291\n",
            "Non-trainable params: 0\n",
            "_________________________________________________________________\n"
          ]
        }
      ]
    },
    {
      "cell_type": "code",
      "source": [
        "# tentukan hyperparameter\n",
        "lr = 0.001\n",
        "max_epochs = 100\n",
        "opt_funct = Adam(learning_rate=lr)"
      ],
      "metadata": {
        "id": "4urXog41mQXa"
      },
      "execution_count": 90,
      "outputs": []
    },
    {
      "cell_type": "code",
      "source": [
        "# compile arsitektur yang telah dibuat\n",
        "model.compile(loss = 'binary_crossentropy',\n",
        "              optimizer = opt_funct, \n",
        "              metrics = ['accuracy'])"
      ],
      "metadata": {
        "id": "XLnztXcmmShn"
      },
      "execution_count": 91,
      "outputs": []
    },
    {
      "cell_type": "code",
      "source": [
        "H = model.fit(x_train, y_train, validation_data=(x_test, y_test), \n",
        "            epochs=max_epochs, batch_size=32)"
      ],
      "metadata": {
        "colab": {
          "base_uri": "https://localhost:8080/"
        },
        "id": "k0gLR1ukmUG9",
        "outputId": "c651e30f-a1ad-4164-9db6-b512185eae13"
      },
      "execution_count": 92,
      "outputs": [
        {
          "output_type": "stream",
          "name": "stdout",
          "text": [
            "Epoch 1/100\n",
            "1/1 [==============================] - 1s 1s/step - loss: 0.6984 - accuracy: 0.6667 - val_loss: 0.1007 - val_accuracy: 1.0000\n",
            "Epoch 2/100\n",
            "1/1 [==============================] - 0s 55ms/step - loss: 0.1341 - accuracy: 1.0000 - val_loss: 0.0109 - val_accuracy: 1.0000\n",
            "Epoch 3/100\n",
            "1/1 [==============================] - 0s 63ms/step - loss: 0.0114 - accuracy: 1.0000 - val_loss: 0.0011 - val_accuracy: 1.0000\n",
            "Epoch 4/100\n",
            "1/1 [==============================] - 0s 51ms/step - loss: 0.0013 - accuracy: 1.0000 - val_loss: 1.2038e-04 - val_accuracy: 1.0000\n",
            "Epoch 5/100\n",
            "1/1 [==============================] - 0s 54ms/step - loss: 4.4372e-04 - accuracy: 1.0000 - val_loss: 1.4447e-05 - val_accuracy: 1.0000\n",
            "Epoch 6/100\n",
            "1/1 [==============================] - 0s 52ms/step - loss: 1.2845e-05 - accuracy: 1.0000 - val_loss: 1.9432e-06 - val_accuracy: 1.0000\n",
            "Epoch 7/100\n",
            "1/1 [==============================] - 0s 63ms/step - loss: 1.4982e-06 - accuracy: 1.0000 - val_loss: 2.9498e-07 - val_accuracy: 1.0000\n",
            "Epoch 8/100\n",
            "1/1 [==============================] - 0s 54ms/step - loss: 3.5056e-07 - accuracy: 1.0000 - val_loss: 5.0398e-08 - val_accuracy: 1.0000\n",
            "Epoch 9/100\n",
            "1/1 [==============================] - 0s 60ms/step - loss: 1.7334e-08 - accuracy: 1.0000 - val_loss: 9.6565e-09 - val_accuracy: 1.0000\n",
            "Epoch 10/100\n",
            "1/1 [==============================] - 0s 62ms/step - loss: 7.0635e-09 - accuracy: 1.0000 - val_loss: 2.0657e-09 - val_accuracy: 1.0000\n",
            "Epoch 11/100\n",
            "1/1 [==============================] - 0s 57ms/step - loss: 4.8031e-09 - accuracy: 1.0000 - val_loss: 4.9044e-10 - val_accuracy: 1.0000\n",
            "Epoch 12/100\n",
            "1/1 [==============================] - 0s 62ms/step - loss: 3.6482e-10 - accuracy: 1.0000 - val_loss: 1.2858e-10 - val_accuracy: 1.0000\n",
            "Epoch 13/100\n",
            "1/1 [==============================] - 0s 56ms/step - loss: 6.3192e-09 - accuracy: 1.0000 - val_loss: 3.7028e-11 - val_accuracy: 1.0000\n",
            "Epoch 14/100\n",
            "1/1 [==============================] - 0s 57ms/step - loss: 1.8665e-11 - accuracy: 1.0000 - val_loss: 1.1655e-11 - val_accuracy: 1.0000\n",
            "Epoch 15/100\n",
            "1/1 [==============================] - 0s 56ms/step - loss: 5.5365e-11 - accuracy: 1.0000 - val_loss: 3.9878e-12 - val_accuracy: 1.0000\n",
            "Epoch 16/100\n",
            "1/1 [==============================] - 0s 54ms/step - loss: 1.5843e-12 - accuracy: 1.0000 - val_loss: 1.4763e-12 - val_accuracy: 1.0000\n",
            "Epoch 17/100\n",
            "1/1 [==============================] - 0s 60ms/step - loss: 3.5792e-11 - accuracy: 1.0000 - val_loss: 5.8884e-13 - val_accuracy: 1.0000\n",
            "Epoch 18/100\n",
            "1/1 [==============================] - 0s 55ms/step - loss: 3.2131e-11 - accuracy: 1.0000 - val_loss: 2.5185e-13 - val_accuracy: 1.0000\n",
            "Epoch 19/100\n",
            "1/1 [==============================] - 0s 72ms/step - loss: 9.6748e-13 - accuracy: 1.0000 - val_loss: 1.1498e-13 - val_accuracy: 1.0000\n",
            "Epoch 20/100\n",
            "1/1 [==============================] - 0s 66ms/step - loss: 1.3964e-12 - accuracy: 1.0000 - val_loss: 5.5789e-14 - val_accuracy: 1.0000\n",
            "Epoch 21/100\n",
            "1/1 [==============================] - 0s 51ms/step - loss: 5.0843e-14 - accuracy: 1.0000 - val_loss: 2.8647e-14 - val_accuracy: 1.0000\n",
            "Epoch 22/100\n",
            "1/1 [==============================] - 0s 66ms/step - loss: 1.2450e-13 - accuracy: 1.0000 - val_loss: 1.5506e-14 - val_accuracy: 1.0000\n",
            "Epoch 23/100\n",
            "1/1 [==============================] - 0s 55ms/step - loss: 4.4546e-13 - accuracy: 1.0000 - val_loss: 8.8156e-15 - val_accuracy: 1.0000\n",
            "Epoch 24/100\n",
            "1/1 [==============================] - 0s 55ms/step - loss: 2.4240e-14 - accuracy: 1.0000 - val_loss: 5.2453e-15 - val_accuracy: 1.0000\n",
            "Epoch 25/100\n",
            "1/1 [==============================] - 0s 58ms/step - loss: 1.0929e-15 - accuracy: 1.0000 - val_loss: 3.2556e-15 - val_accuracy: 1.0000\n",
            "Epoch 26/100\n",
            "1/1 [==============================] - 0s 61ms/step - loss: 6.9232e-15 - accuracy: 1.0000 - val_loss: 2.1011e-15 - val_accuracy: 1.0000\n",
            "Epoch 27/100\n",
            "1/1 [==============================] - 0s 55ms/step - loss: 1.0972e-13 - accuracy: 1.0000 - val_loss: 1.4059e-15 - val_accuracy: 1.0000\n",
            "Epoch 28/100\n",
            "1/1 [==============================] - 0s 69ms/step - loss: 1.5092e-15 - accuracy: 1.0000 - val_loss: 9.7268e-16 - val_accuracy: 1.0000\n",
            "Epoch 29/100\n",
            "1/1 [==============================] - 0s 75ms/step - loss: 1.7763e-14 - accuracy: 1.0000 - val_loss: 6.9398e-16 - val_accuracy: 1.0000\n",
            "Epoch 30/100\n",
            "1/1 [==============================] - 0s 58ms/step - loss: 1.7820e-15 - accuracy: 1.0000 - val_loss: 5.0939e-16 - val_accuracy: 1.0000\n",
            "Epoch 31/100\n",
            "1/1 [==============================] - 0s 54ms/step - loss: 1.2924e-13 - accuracy: 1.0000 - val_loss: 3.8381e-16 - val_accuracy: 1.0000\n",
            "Epoch 32/100\n",
            "1/1 [==============================] - 0s 59ms/step - loss: 1.7131e-15 - accuracy: 1.0000 - val_loss: 2.9623e-16 - val_accuracy: 1.0000\n",
            "Epoch 33/100\n",
            "1/1 [==============================] - 0s 59ms/step - loss: 2.9253e-16 - accuracy: 1.0000 - val_loss: 2.3375e-16 - val_accuracy: 1.0000\n",
            "Epoch 34/100\n",
            "1/1 [==============================] - 0s 55ms/step - loss: 5.9752e-15 - accuracy: 1.0000 - val_loss: 1.8824e-16 - val_accuracy: 1.0000\n",
            "Epoch 35/100\n",
            "1/1 [==============================] - 0s 58ms/step - loss: 5.3112e-16 - accuracy: 1.0000 - val_loss: 1.5445e-16 - val_accuracy: 1.0000\n",
            "Epoch 36/100\n",
            "1/1 [==============================] - 0s 58ms/step - loss: 6.2511e-17 - accuracy: 1.0000 - val_loss: 1.2891e-16 - val_accuracy: 1.0000\n",
            "Epoch 37/100\n",
            "1/1 [==============================] - 0s 59ms/step - loss: 1.1521e-15 - accuracy: 1.0000 - val_loss: 1.0929e-16 - val_accuracy: 1.0000\n",
            "Epoch 38/100\n",
            "1/1 [==============================] - 0s 59ms/step - loss: 1.2089e-16 - accuracy: 1.0000 - val_loss: 9.4009e-17 - val_accuracy: 1.0000\n",
            "Epoch 39/100\n",
            "1/1 [==============================] - 0s 69ms/step - loss: 5.5703e-16 - accuracy: 1.0000 - val_loss: 8.1935e-17 - val_accuracy: 1.0000\n",
            "Epoch 40/100\n",
            "1/1 [==============================] - 0s 63ms/step - loss: 4.4791e-16 - accuracy: 1.0000 - val_loss: 7.2281e-17 - val_accuracy: 1.0000\n",
            "Epoch 41/100\n",
            "1/1 [==============================] - 0s 60ms/step - loss: 6.7638e-17 - accuracy: 1.0000 - val_loss: 6.4473e-17 - val_accuracy: 1.0000\n",
            "Epoch 42/100\n",
            "1/1 [==============================] - 0s 61ms/step - loss: 2.7265e-17 - accuracy: 1.0000 - val_loss: 5.8093e-17 - val_accuracy: 1.0000\n",
            "Epoch 43/100\n",
            "1/1 [==============================] - 0s 55ms/step - loss: 2.5874e-16 - accuracy: 1.0000 - val_loss: 5.2830e-17 - val_accuracy: 1.0000\n",
            "Epoch 44/100\n",
            "1/1 [==============================] - 0s 64ms/step - loss: 1.5436e-16 - accuracy: 1.0000 - val_loss: 4.8452e-17 - val_accuracy: 1.0000\n",
            "Epoch 45/100\n",
            "1/1 [==============================] - 0s 61ms/step - loss: 4.1660e-17 - accuracy: 1.0000 - val_loss: 4.4780e-17 - val_accuracy: 1.0000\n",
            "Epoch 46/100\n",
            "1/1 [==============================] - 0s 58ms/step - loss: 4.5977e-17 - accuracy: 1.0000 - val_loss: 4.1680e-17 - val_accuracy: 1.0000\n",
            "Epoch 47/100\n",
            "1/1 [==============================] - 0s 61ms/step - loss: 2.0604e-15 - accuracy: 1.0000 - val_loss: 3.9045e-17 - val_accuracy: 1.0000\n",
            "Epoch 48/100\n",
            "1/1 [==============================] - 0s 57ms/step - loss: 5.9486e-16 - accuracy: 1.0000 - val_loss: 3.6793e-17 - val_accuracy: 1.0000\n",
            "Epoch 49/100\n",
            "1/1 [==============================] - 0s 61ms/step - loss: 6.0514e-16 - accuracy: 1.0000 - val_loss: 3.4857e-17 - val_accuracy: 1.0000\n",
            "Epoch 50/100\n",
            "1/1 [==============================] - 0s 59ms/step - loss: 2.9101e-14 - accuracy: 1.0000 - val_loss: 3.3184e-17 - val_accuracy: 1.0000\n",
            "Epoch 51/100\n",
            "1/1 [==============================] - 0s 55ms/step - loss: 7.4484e-18 - accuracy: 1.0000 - val_loss: 3.1733e-17 - val_accuracy: 1.0000\n",
            "Epoch 52/100\n",
            "1/1 [==============================] - 0s 58ms/step - loss: 2.3306e-17 - accuracy: 1.0000 - val_loss: 3.0469e-17 - val_accuracy: 1.0000\n",
            "Epoch 53/100\n",
            "1/1 [==============================] - 0s 56ms/step - loss: 5.0163e-17 - accuracy: 1.0000 - val_loss: 2.9364e-17 - val_accuracy: 1.0000\n",
            "Epoch 54/100\n",
            "1/1 [==============================] - 0s 53ms/step - loss: 8.1371e-17 - accuracy: 1.0000 - val_loss: 2.8394e-17 - val_accuracy: 1.0000\n",
            "Epoch 55/100\n",
            "1/1 [==============================] - 0s 60ms/step - loss: 9.7531e-17 - accuracy: 1.0000 - val_loss: 2.7541e-17 - val_accuracy: 1.0000\n",
            "Epoch 56/100\n",
            "1/1 [==============================] - 0s 57ms/step - loss: 5.0121e-17 - accuracy: 1.0000 - val_loss: 2.6788e-17 - val_accuracy: 1.0000\n",
            "Epoch 57/100\n",
            "1/1 [==============================] - 0s 55ms/step - loss: 1.5043e-16 - accuracy: 1.0000 - val_loss: 2.6122e-17 - val_accuracy: 1.0000\n",
            "Epoch 58/100\n",
            "1/1 [==============================] - 0s 62ms/step - loss: 1.3448e-17 - accuracy: 1.0000 - val_loss: 2.5532e-17 - val_accuracy: 1.0000\n",
            "Epoch 59/100\n",
            "1/1 [==============================] - 0s 53ms/step - loss: 1.2804e-17 - accuracy: 1.0000 - val_loss: 2.5007e-17 - val_accuracy: 1.0000\n",
            "Epoch 60/100\n",
            "1/1 [==============================] - 0s 75ms/step - loss: 8.3607e-17 - accuracy: 1.0000 - val_loss: 2.4540e-17 - val_accuracy: 1.0000\n",
            "Epoch 61/100\n",
            "1/1 [==============================] - 0s 56ms/step - loss: 3.3655e-17 - accuracy: 1.0000 - val_loss: 2.4123e-17 - val_accuracy: 1.0000\n",
            "Epoch 62/100\n",
            "1/1 [==============================] - 0s 48ms/step - loss: 1.2669e-16 - accuracy: 1.0000 - val_loss: 2.3752e-17 - val_accuracy: 1.0000\n",
            "Epoch 63/100\n",
            "1/1 [==============================] - 0s 58ms/step - loss: 5.6528e-17 - accuracy: 1.0000 - val_loss: 2.3419e-17 - val_accuracy: 1.0000\n",
            "Epoch 64/100\n",
            "1/1 [==============================] - 0s 65ms/step - loss: 4.7043e-16 - accuracy: 1.0000 - val_loss: 2.3121e-17 - val_accuracy: 1.0000\n",
            "Epoch 65/100\n",
            "1/1 [==============================] - 0s 55ms/step - loss: 3.3752e-16 - accuracy: 1.0000 - val_loss: 2.2855e-17 - val_accuracy: 1.0000\n",
            "Epoch 66/100\n",
            "1/1 [==============================] - 0s 62ms/step - loss: 1.5283e-18 - accuracy: 1.0000 - val_loss: 2.2615e-17 - val_accuracy: 1.0000\n",
            "Epoch 67/100\n",
            "1/1 [==============================] - 0s 55ms/step - loss: 2.3649e-16 - accuracy: 1.0000 - val_loss: 2.2400e-17 - val_accuracy: 1.0000\n",
            "Epoch 68/100\n",
            "1/1 [==============================] - 0s 55ms/step - loss: 1.6868e-17 - accuracy: 1.0000 - val_loss: 2.2207e-17 - val_accuracy: 1.0000\n",
            "Epoch 69/100\n",
            "1/1 [==============================] - 0s 58ms/step - loss: 1.7075e-15 - accuracy: 1.0000 - val_loss: 2.2033e-17 - val_accuracy: 1.0000\n",
            "Epoch 70/100\n",
            "1/1 [==============================] - 0s 57ms/step - loss: 2.0890e-16 - accuracy: 1.0000 - val_loss: 2.1877e-17 - val_accuracy: 1.0000\n",
            "Epoch 71/100\n",
            "1/1 [==============================] - 0s 57ms/step - loss: 9.7756e-18 - accuracy: 1.0000 - val_loss: 2.1736e-17 - val_accuracy: 1.0000\n",
            "Epoch 72/100\n",
            "1/1 [==============================] - 0s 55ms/step - loss: 7.3316e-17 - accuracy: 1.0000 - val_loss: 2.1609e-17 - val_accuracy: 1.0000\n",
            "Epoch 73/100\n",
            "1/1 [==============================] - 0s 53ms/step - loss: 4.8471e-17 - accuracy: 1.0000 - val_loss: 2.1495e-17 - val_accuracy: 1.0000\n",
            "Epoch 74/100\n",
            "1/1 [==============================] - 0s 55ms/step - loss: 3.9977e-16 - accuracy: 1.0000 - val_loss: 2.1392e-17 - val_accuracy: 1.0000\n",
            "Epoch 75/100\n",
            "1/1 [==============================] - 0s 57ms/step - loss: 3.0559e-18 - accuracy: 1.0000 - val_loss: 2.1299e-17 - val_accuracy: 1.0000\n",
            "Epoch 76/100\n",
            "1/1 [==============================] - 0s 58ms/step - loss: 1.3225e-18 - accuracy: 1.0000 - val_loss: 2.1215e-17 - val_accuracy: 1.0000\n",
            "Epoch 77/100\n",
            "1/1 [==============================] - 0s 58ms/step - loss: 1.9046e-18 - accuracy: 1.0000 - val_loss: 2.1139e-17 - val_accuracy: 1.0000\n",
            "Epoch 78/100\n",
            "1/1 [==============================] - 0s 60ms/step - loss: 2.0456e-17 - accuracy: 1.0000 - val_loss: 2.1070e-17 - val_accuracy: 1.0000\n",
            "Epoch 79/100\n",
            "1/1 [==============================] - 0s 61ms/step - loss: 7.0426e-18 - accuracy: 1.0000 - val_loss: 2.1009e-17 - val_accuracy: 1.0000\n",
            "Epoch 80/100\n",
            "1/1 [==============================] - 0s 53ms/step - loss: 8.4000e-18 - accuracy: 1.0000 - val_loss: 2.0953e-17 - val_accuracy: 1.0000\n",
            "Epoch 81/100\n",
            "1/1 [==============================] - 0s 60ms/step - loss: 1.4313e-16 - accuracy: 1.0000 - val_loss: 2.0903e-17 - val_accuracy: 1.0000\n",
            "Epoch 82/100\n",
            "1/1 [==============================] - 0s 54ms/step - loss: 1.5769e-16 - accuracy: 1.0000 - val_loss: 2.0857e-17 - val_accuracy: 1.0000\n",
            "Epoch 83/100\n",
            "1/1 [==============================] - 0s 60ms/step - loss: 1.9811e-15 - accuracy: 1.0000 - val_loss: 2.0816e-17 - val_accuracy: 1.0000\n",
            "Epoch 84/100\n",
            "1/1 [==============================] - 0s 64ms/step - loss: 5.3132e-17 - accuracy: 1.0000 - val_loss: 2.0778e-17 - val_accuracy: 1.0000\n",
            "Epoch 85/100\n",
            "1/1 [==============================] - 0s 62ms/step - loss: 1.4080e-16 - accuracy: 1.0000 - val_loss: 2.0745e-17 - val_accuracy: 1.0000\n",
            "Epoch 86/100\n",
            "1/1 [==============================] - 0s 66ms/step - loss: 2.0183e-16 - accuracy: 1.0000 - val_loss: 2.0714e-17 - val_accuracy: 1.0000\n",
            "Epoch 87/100\n",
            "1/1 [==============================] - 0s 53ms/step - loss: 1.0765e-16 - accuracy: 1.0000 - val_loss: 2.0687e-17 - val_accuracy: 1.0000\n",
            "Epoch 88/100\n",
            "1/1 [==============================] - 0s 57ms/step - loss: 6.4821e-19 - accuracy: 1.0000 - val_loss: 2.0662e-17 - val_accuracy: 1.0000\n",
            "Epoch 89/100\n",
            "1/1 [==============================] - 0s 56ms/step - loss: 1.1086e-13 - accuracy: 1.0000 - val_loss: 2.0639e-17 - val_accuracy: 1.0000\n",
            "Epoch 90/100\n",
            "1/1 [==============================] - 0s 56ms/step - loss: 7.7990e-18 - accuracy: 1.0000 - val_loss: 2.0619e-17 - val_accuracy: 1.0000\n",
            "Epoch 91/100\n",
            "1/1 [==============================] - 0s 54ms/step - loss: 2.0937e-15 - accuracy: 1.0000 - val_loss: 2.0601e-17 - val_accuracy: 1.0000\n",
            "Epoch 92/100\n",
            "1/1 [==============================] - 0s 66ms/step - loss: 6.2968e-16 - accuracy: 1.0000 - val_loss: 2.0584e-17 - val_accuracy: 1.0000\n",
            "Epoch 93/100\n",
            "1/1 [==============================] - 0s 58ms/step - loss: 9.2059e-18 - accuracy: 1.0000 - val_loss: 2.0569e-17 - val_accuracy: 1.0000\n",
            "Epoch 94/100\n",
            "1/1 [==============================] - 0s 59ms/step - loss: 3.3142e-15 - accuracy: 1.0000 - val_loss: 2.0555e-17 - val_accuracy: 1.0000\n",
            "Epoch 95/100\n",
            "1/1 [==============================] - 0s 60ms/step - loss: 3.2387e-18 - accuracy: 1.0000 - val_loss: 2.0543e-17 - val_accuracy: 1.0000\n",
            "Epoch 96/100\n",
            "1/1 [==============================] - 0s 55ms/step - loss: 2.2030e-13 - accuracy: 1.0000 - val_loss: 2.0532e-17 - val_accuracy: 1.0000\n",
            "Epoch 97/100\n",
            "1/1 [==============================] - 0s 64ms/step - loss: 2.8628e-18 - accuracy: 1.0000 - val_loss: 2.0522e-17 - val_accuracy: 1.0000\n",
            "Epoch 98/100\n",
            "1/1 [==============================] - 0s 55ms/step - loss: 3.2084e-16 - accuracy: 1.0000 - val_loss: 2.0513e-17 - val_accuracy: 1.0000\n",
            "Epoch 99/100\n",
            "1/1 [==============================] - 0s 62ms/step - loss: 1.0102e-17 - accuracy: 1.0000 - val_loss: 2.0504e-17 - val_accuracy: 1.0000\n",
            "Epoch 100/100\n",
            "1/1 [==============================] - 0s 73ms/step - loss: 8.6442e-17 - accuracy: 1.0000 - val_loss: 2.0497e-17 - val_accuracy: 1.0000\n"
          ]
        }
      ]
    },
    {
      "cell_type": "code",
      "source": [
        "N = np.arange(0, max_epochs)\n",
        "plt.style.use(\"ggplot\")\n",
        "plt.figure()\n",
        "plt.plot(N, H.history[\"loss\"], label=\"train_loss\")\n",
        "plt.plot(N, H.history[\"val_loss\"], label=\"val_loss\")\n",
        "#plt.plot(N, H.history[\"accuracy\"], label=\"train_acc\")\n",
        "#plt.plot(N, H.history[\"val_accuracy\"], label=\"val_acc\")\n",
        "plt.xlabel(\"Epoch #\")\n",
        "plt.legend()\n",
        "plt.show()"
      ],
      "metadata": {
        "colab": {
          "base_uri": "https://localhost:8080/",
          "height": 282
        },
        "id": "dcApub5HmWGX",
        "outputId": "c57236de-f528-451c-bd51-925dec89f10e"
      },
      "execution_count": 93,
      "outputs": [
        {
          "output_type": "display_data",
          "data": {
            "image/png": "[encoded data removed]",
            "text/plain": [
              "<Figure size 432x288 with 1 Axes>"
            ]
          },
          "metadata": {}
        }
      ]
    },
    {
      "cell_type": "code",
      "source": [
        "# menghitung nilai akurasi model terhadap data test\n",
        "predictions = model.predict(x_test, batch_size=32)\n",
        "target = (predictions > 0.5).astype(np.int)\n",
        "print(classification_report(y_test, target, target_names=label_list))"
      ],
      "metadata": {
        "colab": {
          "base_uri": "https://localhost:8080/",
          "height": 321
        },
        "id": "xXDQYZo1mY1m",
        "outputId": "ae9258e3-8e66-4bac-ac79-3ddb19d8b248"
      },
      "execution_count": 100,
      "outputs": [
        {
          "output_type": "error",
          "ename": "ValueError",
          "evalue": "ignored",
          "traceback": [
            "\u001b[0;31m---------------------------------------------------------------------------\u001b[0m",
            "\u001b[0;31mValueError\u001b[0m                                Traceback (most recent call last)",
            "\u001b[0;32m<ipython-input-100-c664c678823f>\u001b[0m in \u001b[0;36m<module>\u001b[0;34m()\u001b[0m\n\u001b[1;32m      2\u001b[0m \u001b[0mpredictions\u001b[0m \u001b[0;34m=\u001b[0m \u001b[0mmodel\u001b[0m\u001b[0;34m.\u001b[0m\u001b[0mpredict\u001b[0m\u001b[0;34m(\u001b[0m\u001b[0mx_test\u001b[0m\u001b[0;34m,\u001b[0m \u001b[0mbatch_size\u001b[0m\u001b[0;34m=\u001b[0m\u001b[0;36m32\u001b[0m\u001b[0;34m)\u001b[0m\u001b[0;34m\u001b[0m\u001b[0;34m\u001b[0m\u001b[0m\n\u001b[1;32m      3\u001b[0m \u001b[0mtarget\u001b[0m \u001b[0;34m=\u001b[0m \u001b[0;34m(\u001b[0m\u001b[0mpredictions\u001b[0m \u001b[0;34m>\u001b[0m \u001b[0;36m0.5\u001b[0m\u001b[0;34m)\u001b[0m\u001b[0;34m.\u001b[0m\u001b[0mastype\u001b[0m\u001b[0;34m(\u001b[0m\u001b[0mnp\u001b[0m\u001b[0;34m.\u001b[0m\u001b[0mint\u001b[0m\u001b[0;34m)\u001b[0m\u001b[0;34m\u001b[0m\u001b[0;34m\u001b[0m\u001b[0m\n\u001b[0;32m----> 4\u001b[0;31m \u001b[0mprint\u001b[0m\u001b[0;34m(\u001b[0m\u001b[0mclassification_report\u001b[0m\u001b[0;34m(\u001b[0m\u001b[0my_test\u001b[0m\u001b[0;34m,\u001b[0m \u001b[0mtarget\u001b[0m\u001b[0;34m,\u001b[0m \u001b[0mtarget_names\u001b[0m\u001b[0;34m=\u001b[0m\u001b[0mlabel_list\u001b[0m\u001b[0;34m)\u001b[0m\u001b[0;34m)\u001b[0m\u001b[0;34m\u001b[0m\u001b[0;34m\u001b[0m\u001b[0m\n\u001b[0m",
            "\u001b[0;32m/usr/local/lib/python3.7/dist-packages/sklearn/metrics/_classification.py\u001b[0m in \u001b[0;36mclassification_report\u001b[0;34m(y_true, y_pred, labels, target_names, sample_weight, digits, output_dict, zero_division)\u001b[0m\n\u001b[1;32m   2099\u001b[0m                 \u001b[0;34m\"Number of classes, {0}, does not match size of \"\u001b[0m\u001b[0;34m\u001b[0m\u001b[0;34m\u001b[0m\u001b[0m\n\u001b[1;32m   2100\u001b[0m                 \u001b[0;34m\"target_names, {1}. Try specifying the labels \"\u001b[0m\u001b[0;34m\u001b[0m\u001b[0;34m\u001b[0m\u001b[0m\n\u001b[0;32m-> 2101\u001b[0;31m                 \u001b[0;34m\"parameter\"\u001b[0m\u001b[0;34m.\u001b[0m\u001b[0mformat\u001b[0m\u001b[0;34m(\u001b[0m\u001b[0mlen\u001b[0m\u001b[0;34m(\u001b[0m\u001b[0mlabels\u001b[0m\u001b[0;34m)\u001b[0m\u001b[0;34m,\u001b[0m \u001b[0mlen\u001b[0m\u001b[0;34m(\u001b[0m\u001b[0mtarget_names\u001b[0m\u001b[0;34m)\u001b[0m\u001b[0;34m)\u001b[0m\u001b[0;34m\u001b[0m\u001b[0;34m\u001b[0m\u001b[0m\n\u001b[0m\u001b[1;32m   2102\u001b[0m             )\n\u001b[1;32m   2103\u001b[0m     \u001b[0;32mif\u001b[0m \u001b[0mtarget_names\u001b[0m \u001b[0;32mis\u001b[0m \u001b[0;32mNone\u001b[0m\u001b[0;34m:\u001b[0m\u001b[0;34m\u001b[0m\u001b[0;34m\u001b[0m\u001b[0m\n",
            "\u001b[0;31mValueError\u001b[0m: Number of classes, 1, does not match size of target_names, 2. Try specifying the labels parameter"
          ]
        }
      ]
    },
    {
      "cell_type": "code",
      "source": [
        "# uji model menggunakan image lain\n",
        "queryPath = imagePaths+'045.jpg'\n",
        "query = cv2.imread(queryPath)\n",
        "output = query.copy()\n",
        "query = cv2.resize(query, (32, 32))\n",
        "q = []\n",
        "q.append(query)\n",
        "q = np.array(q, dtype='float') / 255.0\n",
        "q_pred = model.predict(q)\n",
        "print(q_pred)"
      ],
      "metadata": {
        "colab": {
          "base_uri": "https://localhost:8080/",
          "height": 235
        },
        "id": "Cyzr3oztma6G",
        "outputId": "0bc7e082-104f-44b3-cd1a-49ed4ebd895c"
      },
      "execution_count": 101,
      "outputs": [
        {
          "output_type": "error",
          "ename": "AttributeError",
          "evalue": "ignored",
          "traceback": [
            "\u001b[0;31m---------------------------------------------------------------------------\u001b[0m",
            "\u001b[0;31mAttributeError\u001b[0m                            Traceback (most recent call last)",
            "\u001b[0;32m<ipython-input-101-b55a965cc598>\u001b[0m in \u001b[0;36m<module>\u001b[0;34m()\u001b[0m\n\u001b[1;32m      2\u001b[0m \u001b[0mqueryPath\u001b[0m \u001b[0;34m=\u001b[0m \u001b[0mimagePaths\u001b[0m\u001b[0;34m+\u001b[0m\u001b[0;34m'045.jpg'\u001b[0m\u001b[0;34m\u001b[0m\u001b[0;34m\u001b[0m\u001b[0m\n\u001b[1;32m      3\u001b[0m \u001b[0mquery\u001b[0m \u001b[0;34m=\u001b[0m \u001b[0mcv2\u001b[0m\u001b[0;34m.\u001b[0m\u001b[0mimread\u001b[0m\u001b[0;34m(\u001b[0m\u001b[0mqueryPath\u001b[0m\u001b[0;34m)\u001b[0m\u001b[0;34m\u001b[0m\u001b[0;34m\u001b[0m\u001b[0m\n\u001b[0;32m----> 4\u001b[0;31m \u001b[0moutput\u001b[0m \u001b[0;34m=\u001b[0m \u001b[0mquery\u001b[0m\u001b[0;34m.\u001b[0m\u001b[0mcopy\u001b[0m\u001b[0;34m(\u001b[0m\u001b[0;34m)\u001b[0m\u001b[0;34m\u001b[0m\u001b[0;34m\u001b[0m\u001b[0m\n\u001b[0m\u001b[1;32m      5\u001b[0m \u001b[0mquery\u001b[0m \u001b[0;34m=\u001b[0m \u001b[0mcv2\u001b[0m\u001b[0;34m.\u001b[0m\u001b[0mresize\u001b[0m\u001b[0;34m(\u001b[0m\u001b[0mquery\u001b[0m\u001b[0;34m,\u001b[0m \u001b[0;34m(\u001b[0m\u001b[0;36m32\u001b[0m\u001b[0;34m,\u001b[0m \u001b[0;36m32\u001b[0m\u001b[0;34m)\u001b[0m\u001b[0;34m)\u001b[0m\u001b[0;34m\u001b[0m\u001b[0;34m\u001b[0m\u001b[0m\n\u001b[1;32m      6\u001b[0m \u001b[0mq\u001b[0m \u001b[0;34m=\u001b[0m \u001b[0;34m[\u001b[0m\u001b[0;34m]\u001b[0m\u001b[0;34m\u001b[0m\u001b[0;34m\u001b[0m\u001b[0m\n",
            "\u001b[0;31mAttributeError\u001b[0m: 'NoneType' object has no attribute 'copy'"
          ]
        }
      ]
    },
    {
      "cell_type": "code",
      "source": [
        "if q_pred<=0.5 :\n",
        "    target = \"daun kemangi\"\n",
        "else :\n",
        "    target = \"daun pepaya\"\n",
        "text = \"{}\".format(target)\n",
        "cv2.putText(output, text, (10, 30), cv2.FONT_HERSHEY_SIMPLEX, 0.7, (0, 0, 255), 2)\n",
        "# menampilkan output image\n",
        "cv2_imshow(output)"
      ],
      "metadata": {
        "colab": {
          "base_uri": "https://localhost:8080/",
          "height": 235
        },
        "id": "f5IQ5qkBmccr",
        "outputId": "62529438-2451-42b7-f25f-e07193212b57"
      },
      "execution_count": 102,
      "outputs": [
        {
          "output_type": "error",
          "ename": "NameError",
          "evalue": "ignored",
          "traceback": [
            "\u001b[0;31m---------------------------------------------------------------------------\u001b[0m",
            "\u001b[0;31mNameError\u001b[0m                                 Traceback (most recent call last)",
            "\u001b[0;32m<ipython-input-102-ff9e4a2dd2a0>\u001b[0m in \u001b[0;36m<module>\u001b[0;34m()\u001b[0m\n\u001b[0;32m----> 1\u001b[0;31m \u001b[0;32mif\u001b[0m \u001b[0mq_pred\u001b[0m\u001b[0;34m<=\u001b[0m\u001b[0;36m0.5\u001b[0m \u001b[0;34m:\u001b[0m\u001b[0;34m\u001b[0m\u001b[0;34m\u001b[0m\u001b[0m\n\u001b[0m\u001b[1;32m      2\u001b[0m     \u001b[0mtarget\u001b[0m \u001b[0;34m=\u001b[0m \u001b[0;34m\"daun kemangi\"\u001b[0m\u001b[0;34m\u001b[0m\u001b[0;34m\u001b[0m\u001b[0m\n\u001b[1;32m      3\u001b[0m \u001b[0;32melse\u001b[0m \u001b[0;34m:\u001b[0m\u001b[0;34m\u001b[0m\u001b[0;34m\u001b[0m\u001b[0m\n\u001b[1;32m      4\u001b[0m     \u001b[0mtarget\u001b[0m \u001b[0;34m=\u001b[0m \u001b[0;34m\"daun pepaya\"\u001b[0m\u001b[0;34m\u001b[0m\u001b[0;34m\u001b[0m\u001b[0m\n\u001b[1;32m      5\u001b[0m \u001b[0mtext\u001b[0m \u001b[0;34m=\u001b[0m \u001b[0;34m\"{}\"\u001b[0m\u001b[0;34m.\u001b[0m\u001b[0mformat\u001b[0m\u001b[0;34m(\u001b[0m\u001b[0mtarget\u001b[0m\u001b[0;34m)\u001b[0m\u001b[0;34m\u001b[0m\u001b[0;34m\u001b[0m\u001b[0m\n",
            "\u001b[0;31mNameError\u001b[0m: name 'q_pred' is not defined"
          ]
        }
      ]
    }
  ]
}