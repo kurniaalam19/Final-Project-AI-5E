{
  "nbformat": 4,
  "nbformat_minor": 0,
  "metadata": {
    "colab": {
      "name": "Image Classification ANN",
      "provenance": []
    },
    "kernelspec": {
      "name": "python3",
      "display_name": "Python 3"
    },
    "language_info": {
      "name": "python"
    }
  },
  "cells": [
    {
      "cell_type": "code",
      "source": [
        "from sklearn.model_selection import train_test_split\n",
        "from sklearn.preprocessing import LabelEncoder\n",
        "from sklearn.metrics import classification_report\n",
        "from tensorflow.keras.models import Sequential\n",
        "from tensorflow.keras.layers import Flatten, Dense\n",
        "from tensorflow.keras.optimizers import SGD\n",
        "import numpy as np\n",
        "import cv2\n",
        "import glob\n",
        "import matplotlib.pyplot as plt\n",
        "from google.colab.patches import cv2_imshow"
      ],
      "metadata": {
        "id": "doVEpj-zf8Zf"
      },
      "execution_count": 30,
      "outputs": []
    },
    {
      "cell_type": "code",
      "source": [
        "imagePaths = 'DATASET/'\n",
        "label_list = ['daun kemangi', 'daun pepaya']\n",
        "data = []\n",
        "labels = []"
      ],
      "metadata": {
        "id": "i2QPq7ZyZLej"
      },
      "execution_count": 31,
      "outputs": []
    },
    {
      "cell_type": "code",
      "source": [
        "for label in label_list:\n",
        "    for imagePath in glob.glob(imagePaths+label+'/*.jpg'):\n",
        "    #print(imagePath)\n",
        "        image = cv2.imread(imagePath)\n",
        "        image = cv2.resize(image, (32, 32))\n",
        "        data.append(image)\n",
        "        labels.append(label)"
      ],
      "metadata": {
        "id": "AjEeiykbZNEt"
      },
      "execution_count": 32,
      "outputs": []
    },
    {
      "cell_type": "code",
      "source": [
        "np.array(data).shape"
      ],
      "metadata": {
        "colab": {
          "base_uri": "https://localhost:8080/"
        },
        "id": "hAI0o4-qZPvd",
        "outputId": "12e5f208-b4bf-4e77-c0da-08a5d27322d0"
      },
      "execution_count": 33,
      "outputs": [
        {
          "output_type": "execute_result",
          "data": {
            "text/plain": [
              "(86, 32, 32, 3)"
            ]
          },
          "metadata": {},
          "execution_count": 33
        }
      ]
    },
    {
      "cell_type": "code",
      "source": [
        "# ubah type data dari list menjadi array\n",
        "# ubah nilai dari tiap pixel menjadi range [0..1]\n",
        "data = np.array(data, dtype='float') / 255.0\n",
        "labels = np.array(labels)"
      ],
      "metadata": {
        "id": "L9auqabcZSPY"
      },
      "execution_count": 34,
      "outputs": []
    },
    {
      "cell_type": "code",
      "source": [
        "print(labels)"
      ],
      "metadata": {
        "colab": {
          "base_uri": "https://localhost:8080/"
        },
        "id": "aV73NELnZUNg",
        "outputId": "dab2607c-4d4c-4e2d-c9fb-bad3891b4bb2"
      },
      "execution_count": 35,
      "outputs": [
        {
          "output_type": "stream",
          "name": "stdout",
          "text": [
            "['daun kemangi' 'daun kemangi' 'daun kemangi' 'daun kemangi'\n",
            " 'daun kemangi' 'daun kemangi' 'daun kemangi' 'daun kemangi'\n",
            " 'daun kemangi' 'daun kemangi' 'daun kemangi' 'daun kemangi'\n",
            " 'daun kemangi' 'daun kemangi' 'daun kemangi' 'daun kemangi'\n",
            " 'daun kemangi' 'daun kemangi' 'daun kemangi' 'daun kemangi'\n",
            " 'daun kemangi' 'daun kemangi' 'daun kemangi' 'daun kemangi'\n",
            " 'daun kemangi' 'daun kemangi' 'daun kemangi' 'daun kemangi'\n",
            " 'daun kemangi' 'daun kemangi' 'daun kemangi' 'daun kemangi'\n",
            " 'daun kemangi' 'daun kemangi' 'daun kemangi' 'daun kemangi' 'daun pepaya'\n",
            " 'daun pepaya' 'daun pepaya' 'daun pepaya' 'daun pepaya' 'daun pepaya'\n",
            " 'daun pepaya' 'daun pepaya' 'daun pepaya' 'daun pepaya' 'daun pepaya'\n",
            " 'daun pepaya' 'daun pepaya' 'daun pepaya' 'daun pepaya' 'daun pepaya'\n",
            " 'daun pepaya' 'daun pepaya' 'daun pepaya' 'daun pepaya' 'daun pepaya'\n",
            " 'daun pepaya' 'daun pepaya' 'daun pepaya' 'daun pepaya' 'daun pepaya'\n",
            " 'daun pepaya' 'daun pepaya' 'daun pepaya' 'daun pepaya' 'daun pepaya'\n",
            " 'daun pepaya' 'daun pepaya' 'daun pepaya' 'daun pepaya' 'daun pepaya'\n",
            " 'daun pepaya' 'daun pepaya' 'daun pepaya' 'daun pepaya' 'daun pepaya'\n",
            " 'daun pepaya' 'daun pepaya' 'daun pepaya' 'daun pepaya' 'daun pepaya'\n",
            " 'daun pepaya' 'daun pepaya' 'daun pepaya' 'daun pepaya']\n"
          ]
        }
      ]
    },
    {
      "cell_type": "code",
      "source": [
        "# ubah nilai dari labels menjadi binary\n",
        "lb = LabelEncoder()\n",
        "labels = lb.fit_transform(labels)\n",
        "print(labels)"
      ],
      "metadata": {
        "colab": {
          "base_uri": "https://localhost:8080/"
        },
        "id": "sJJWvQzxZWBV",
        "outputId": "5e24979b-51c2-4a92-c71a-80a4d8110791"
      },
      "execution_count": 36,
      "outputs": [
        {
          "output_type": "stream",
          "name": "stdout",
          "text": [
            "[0 0 0 0 0 0 0 0 0 0 0 0 0 0 0 0 0 0 0 0 0 0 0 0 0 0 0 0 0 0 0 0 0 0 0 0 1\n",
            " 1 1 1 1 1 1 1 1 1 1 1 1 1 1 1 1 1 1 1 1 1 1 1 1 1 1 1 1 1 1 1 1 1 1 1 1 1\n",
            " 1 1 1 1 1 1 1 1 1 1 1 1]\n"
          ]
        }
      ]
    },
    {
      "cell_type": "code",
      "source": [
        "x_train, x_test, y_train, y_test = train_test_split(data, labels, test_size=0.2, random_state=42)"
      ],
      "metadata": {
        "id": "eCQ1-TSNZdR8"
      },
      "execution_count": 37,
      "outputs": []
    },
    {
      "cell_type": "code",
      "source": [
        "print('Ukuran data train =', x_train.shape)\n",
        "print('Ukuran data test =', x_test.shape)"
      ],
      "metadata": {
        "colab": {
          "base_uri": "https://localhost:8080/"
        },
        "id": "rbpocPYMZd6y",
        "outputId": "a3ecbccf-500d-4f27-9d36-3717380d0ae4"
      },
      "execution_count": 38,
      "outputs": [
        {
          "output_type": "stream",
          "name": "stdout",
          "text": [
            "Ukuran data train = (68, 32, 32, 3)\n",
            "Ukuran data test = (18, 32, 32, 3)\n"
          ]
        }
      ]
    },
    {
      "cell_type": "code",
      "source": [
        "model = Sequential()\n",
        "model.add(Flatten(input_shape=(32,32,3)))\n",
        "model.add(Dense(1024, activation=\"relu\"))\n",
        "model.add(Dense(1024, activation=\"relu\"))\n",
        "model.add(Dense(1, activation=\"sigmoid\"))"
      ],
      "metadata": {
        "id": "lq8m7bbVZgLc"
      },
      "execution_count": 39,
      "outputs": []
    },
    {
      "cell_type": "code",
      "source": [
        "model.summary()"
      ],
      "metadata": {
        "colab": {
          "base_uri": "https://localhost:8080/"
        },
        "id": "V8AqMXiLZi74",
        "outputId": "742762a3-30c9-4001-b978-eb781601d757"
      },
      "execution_count": 40,
      "outputs": [
        {
          "output_type": "stream",
          "name": "stdout",
          "text": [
            "Model: \"sequential_1\"\n",
            "_________________________________________________________________\n",
            " Layer (type)                Output Shape              Param #   \n",
            "=================================================================\n",
            " flatten_1 (Flatten)         (None, 3072)              0         \n",
            "                                                                 \n",
            " dense_3 (Dense)             (None, 1024)              3146752   \n",
            "                                                                 \n",
            " dense_4 (Dense)             (None, 1024)              1049600   \n",
            "                                                                 \n",
            " dense_5 (Dense)             (None, 1)                 1025      \n",
            "                                                                 \n",
            "=================================================================\n",
            "Total params: 4,197,377\n",
            "Trainable params: 4,197,377\n",
            "Non-trainable params: 0\n",
            "_________________________________________________________________\n"
          ]
        }
      ]
    },
    {
      "cell_type": "code",
      "source": [
        "# tentukan hyperparameter\\n\",\n",
        "lr = 0.01\n",
        "max_epochs = 100\n",
        "opt_funct = SGD(learning_rate=lr)"
      ],
      "metadata": {
        "id": "VY1Yhyl4ZmLz"
      },
      "execution_count": 41,
      "outputs": []
    },
    {
      "cell_type": "code",
      "source": [
        "# compile arsitektur yang telah dibuat\\n\",\n",
        "model.compile(loss = 'binary_crossentropy',\n",
        "              optimizer = opt_funct, \n",
        "              metrics = ['accuracy'])"
      ],
      "metadata": {
        "id": "yD9oUDkiZnlT"
      },
      "execution_count": 42,
      "outputs": []
    },
    {
      "cell_type": "code",
      "source": [
        "H = model.fit(x_train, y_train, validation_data=(x_test, y_test), \n",
        "            epochs=max_epochs, batch_size=32)\n"
      ],
      "metadata": {
        "colab": {
          "base_uri": "https://localhost:8080/"
        },
        "id": "YBzDyPHrZrEV",
        "outputId": "33cebf07-71f2-4dbb-9a26-6aa8bcb9449a"
      },
      "execution_count": 43,
      "outputs": [
        {
          "output_type": "stream",
          "name": "stdout",
          "text": [
            "Epoch 1/100\n",
            "3/3 [==============================] - 1s 124ms/step - loss: 0.9008 - accuracy: 0.4853 - val_loss: 1.3235 - val_accuracy: 0.3889\n",
            "Epoch 2/100\n",
            "3/3 [==============================] - 0s 53ms/step - loss: 0.8612 - accuracy: 0.5294 - val_loss: 0.9102 - val_accuracy: 0.6111\n",
            "Epoch 3/100\n",
            "3/3 [==============================] - 0s 46ms/step - loss: 0.9356 - accuracy: 0.4853 - val_loss: 0.3639 - val_accuracy: 1.0000\n",
            "Epoch 4/100\n",
            "3/3 [==============================] - 0s 48ms/step - loss: 0.4064 - accuracy: 0.8971 - val_loss: 0.4948 - val_accuracy: 0.6111\n",
            "Epoch 5/100\n",
            "3/3 [==============================] - 0s 44ms/step - loss: 0.4456 - accuracy: 0.8529 - val_loss: 0.2574 - val_accuracy: 1.0000\n",
            "Epoch 6/100\n",
            "3/3 [==============================] - 0s 53ms/step - loss: 0.2542 - accuracy: 0.9853 - val_loss: 0.2297 - val_accuracy: 1.0000\n",
            "Epoch 7/100\n",
            "3/3 [==============================] - 0s 45ms/step - loss: 0.2395 - accuracy: 0.9559 - val_loss: 0.2767 - val_accuracy: 0.9444\n",
            "Epoch 8/100\n",
            "3/3 [==============================] - 0s 48ms/step - loss: 0.3606 - accuracy: 0.8971 - val_loss: 1.6042 - val_accuracy: 0.6111\n",
            "Epoch 9/100\n",
            "3/3 [==============================] - 0s 50ms/step - loss: 1.0121 - accuracy: 0.7353 - val_loss: 0.2060 - val_accuracy: 1.0000\n",
            "Epoch 10/100\n",
            "3/3 [==============================] - 0s 52ms/step - loss: 0.1956 - accuracy: 0.9853 - val_loss: 0.2648 - val_accuracy: 0.9444\n",
            "Epoch 11/100\n",
            "3/3 [==============================] - 0s 48ms/step - loss: 0.2929 - accuracy: 0.9118 - val_loss: 0.1770 - val_accuracy: 0.9444\n",
            "Epoch 12/100\n",
            "3/3 [==============================] - 0s 53ms/step - loss: 0.1655 - accuracy: 0.9853 - val_loss: 0.1464 - val_accuracy: 1.0000\n",
            "Epoch 13/100\n",
            "3/3 [==============================] - 0s 50ms/step - loss: 0.1414 - accuracy: 1.0000 - val_loss: 0.1605 - val_accuracy: 0.9444\n",
            "Epoch 14/100\n",
            "3/3 [==============================] - 0s 47ms/step - loss: 0.1427 - accuracy: 0.9853 - val_loss: 0.1244 - val_accuracy: 1.0000\n",
            "Epoch 15/100\n",
            "3/3 [==============================] - 0s 45ms/step - loss: 0.1208 - accuracy: 1.0000 - val_loss: 0.1172 - val_accuracy: 1.0000\n",
            "Epoch 16/100\n",
            "3/3 [==============================] - 0s 50ms/step - loss: 0.1142 - accuracy: 1.0000 - val_loss: 0.1233 - val_accuracy: 1.0000\n",
            "Epoch 17/100\n",
            "3/3 [==============================] - 0s 46ms/step - loss: 0.1294 - accuracy: 0.9853 - val_loss: 0.1166 - val_accuracy: 1.0000\n",
            "Epoch 18/100\n",
            "3/3 [==============================] - 0s 50ms/step - loss: 0.1046 - accuracy: 1.0000 - val_loss: 0.1506 - val_accuracy: 1.0000\n",
            "Epoch 19/100\n",
            "3/3 [==============================] - 0s 49ms/step - loss: 0.1545 - accuracy: 0.9559 - val_loss: 0.0955 - val_accuracy: 1.0000\n",
            "Epoch 20/100\n",
            "3/3 [==============================] - 0s 50ms/step - loss: 0.0902 - accuracy: 1.0000 - val_loss: 0.1138 - val_accuracy: 1.0000\n",
            "Epoch 21/100\n",
            "3/3 [==============================] - 0s 53ms/step - loss: 0.1025 - accuracy: 1.0000 - val_loss: 0.1072 - val_accuracy: 0.9444\n",
            "Epoch 22/100\n",
            "3/3 [==============================] - 0s 48ms/step - loss: 0.1043 - accuracy: 0.9853 - val_loss: 0.0772 - val_accuracy: 1.0000\n",
            "Epoch 23/100\n",
            "3/3 [==============================] - 0s 53ms/step - loss: 0.0781 - accuracy: 1.0000 - val_loss: 0.1167 - val_accuracy: 0.9444\n",
            "Epoch 24/100\n",
            "3/3 [==============================] - 0s 50ms/step - loss: 0.0919 - accuracy: 1.0000 - val_loss: 0.1563 - val_accuracy: 1.0000\n",
            "Epoch 25/100\n",
            "3/3 [==============================] - 0s 57ms/step - loss: 0.1616 - accuracy: 0.9706 - val_loss: 0.0685 - val_accuracy: 1.0000\n",
            "Epoch 26/100\n",
            "3/3 [==============================] - 0s 49ms/step - loss: 0.0640 - accuracy: 1.0000 - val_loss: 0.1014 - val_accuracy: 0.9444\n",
            "Epoch 27/100\n",
            "3/3 [==============================] - 0s 47ms/step - loss: 0.0788 - accuracy: 0.9853 - val_loss: 0.0968 - val_accuracy: 0.9444\n",
            "Epoch 28/100\n",
            "3/3 [==============================] - 0s 50ms/step - loss: 0.0708 - accuracy: 0.9853 - val_loss: 0.0591 - val_accuracy: 1.0000\n",
            "Epoch 29/100\n",
            "3/3 [==============================] - 0s 50ms/step - loss: 0.0555 - accuracy: 1.0000 - val_loss: 0.0568 - val_accuracy: 1.0000\n",
            "Epoch 30/100\n",
            "3/3 [==============================] - 0s 49ms/step - loss: 0.0537 - accuracy: 1.0000 - val_loss: 0.0945 - val_accuracy: 1.0000\n",
            "Epoch 31/100\n",
            "3/3 [==============================] - 0s 48ms/step - loss: 0.0831 - accuracy: 1.0000 - val_loss: 0.0559 - val_accuracy: 1.0000\n",
            "Epoch 32/100\n",
            "3/3 [==============================] - 0s 48ms/step - loss: 0.0511 - accuracy: 1.0000 - val_loss: 0.0586 - val_accuracy: 1.0000\n",
            "Epoch 33/100\n",
            "3/3 [==============================] - 0s 51ms/step - loss: 0.0550 - accuracy: 1.0000 - val_loss: 0.0759 - val_accuracy: 1.0000\n",
            "Epoch 34/100\n",
            "3/3 [==============================] - 0s 55ms/step - loss: 0.0557 - accuracy: 1.0000 - val_loss: 0.0507 - val_accuracy: 1.0000\n",
            "Epoch 35/100\n",
            "3/3 [==============================] - 0s 49ms/step - loss: 0.0462 - accuracy: 1.0000 - val_loss: 0.0569 - val_accuracy: 1.0000\n",
            "Epoch 36/100\n",
            "3/3 [==============================] - 0s 47ms/step - loss: 0.0491 - accuracy: 1.0000 - val_loss: 0.0603 - val_accuracy: 1.0000\n",
            "Epoch 37/100\n",
            "3/3 [==============================] - 0s 57ms/step - loss: 0.0475 - accuracy: 1.0000 - val_loss: 0.0477 - val_accuracy: 1.0000\n",
            "Epoch 38/100\n",
            "3/3 [==============================] - 0s 52ms/step - loss: 0.0404 - accuracy: 1.0000 - val_loss: 0.0451 - val_accuracy: 1.0000\n",
            "Epoch 39/100\n",
            "3/3 [==============================] - 0s 48ms/step - loss: 0.0382 - accuracy: 1.0000 - val_loss: 0.0407 - val_accuracy: 1.0000\n",
            "Epoch 40/100\n",
            "3/3 [==============================] - 0s 45ms/step - loss: 0.0373 - accuracy: 1.0000 - val_loss: 0.0398 - val_accuracy: 1.0000\n",
            "Epoch 41/100\n",
            "3/3 [==============================] - 0s 53ms/step - loss: 0.0369 - accuracy: 1.0000 - val_loss: 0.0408 - val_accuracy: 1.0000\n",
            "Epoch 42/100\n",
            "3/3 [==============================] - 0s 45ms/step - loss: 0.0354 - accuracy: 1.0000 - val_loss: 0.0408 - val_accuracy: 1.0000\n",
            "Epoch 43/100\n",
            "3/3 [==============================] - 0s 49ms/step - loss: 0.0359 - accuracy: 1.0000 - val_loss: 0.0366 - val_accuracy: 1.0000\n",
            "Epoch 44/100\n",
            "3/3 [==============================] - 0s 53ms/step - loss: 0.0350 - accuracy: 1.0000 - val_loss: 0.0365 - val_accuracy: 1.0000\n",
            "Epoch 45/100\n",
            "3/3 [==============================] - 0s 53ms/step - loss: 0.0334 - accuracy: 1.0000 - val_loss: 0.0352 - val_accuracy: 1.0000\n",
            "Epoch 46/100\n",
            "3/3 [==============================] - 0s 48ms/step - loss: 0.0311 - accuracy: 1.0000 - val_loss: 0.0561 - val_accuracy: 1.0000\n",
            "Epoch 47/100\n",
            "3/3 [==============================] - 0s 52ms/step - loss: 0.0437 - accuracy: 1.0000 - val_loss: 0.0353 - val_accuracy: 1.0000\n",
            "Epoch 48/100\n",
            "3/3 [==============================] - 0s 44ms/step - loss: 0.0319 - accuracy: 1.0000 - val_loss: 0.0355 - val_accuracy: 1.0000\n",
            "Epoch 49/100\n",
            "3/3 [==============================] - 0s 51ms/step - loss: 0.0355 - accuracy: 1.0000 - val_loss: 0.0314 - val_accuracy: 1.0000\n",
            "Epoch 50/100\n",
            "3/3 [==============================] - 0s 49ms/step - loss: 0.0280 - accuracy: 1.0000 - val_loss: 0.0324 - val_accuracy: 1.0000\n",
            "Epoch 51/100\n",
            "3/3 [==============================] - 0s 54ms/step - loss: 0.0272 - accuracy: 1.0000 - val_loss: 0.0329 - val_accuracy: 1.0000\n",
            "Epoch 52/100\n",
            "3/3 [==============================] - 0s 55ms/step - loss: 0.0280 - accuracy: 1.0000 - val_loss: 0.0296 - val_accuracy: 1.0000\n",
            "Epoch 53/100\n",
            "3/3 [==============================] - 0s 53ms/step - loss: 0.0278 - accuracy: 1.0000 - val_loss: 0.0291 - val_accuracy: 1.0000\n",
            "Epoch 54/100\n",
            "3/3 [==============================] - 0s 50ms/step - loss: 0.0257 - accuracy: 1.0000 - val_loss: 0.0439 - val_accuracy: 1.0000\n",
            "Epoch 55/100\n",
            "3/3 [==============================] - 0s 51ms/step - loss: 0.0340 - accuracy: 1.0000 - val_loss: 0.0326 - val_accuracy: 1.0000\n",
            "Epoch 56/100\n",
            "3/3 [==============================] - 0s 46ms/step - loss: 0.0250 - accuracy: 1.0000 - val_loss: 0.0276 - val_accuracy: 1.0000\n",
            "Epoch 57/100\n",
            "3/3 [==============================] - 0s 48ms/step - loss: 0.0234 - accuracy: 1.0000 - val_loss: 0.0296 - val_accuracy: 1.0000\n",
            "Epoch 58/100\n",
            "3/3 [==============================] - 0s 52ms/step - loss: 0.0236 - accuracy: 1.0000 - val_loss: 0.0274 - val_accuracy: 1.0000\n",
            "Epoch 59/100\n",
            "3/3 [==============================] - 0s 47ms/step - loss: 0.0232 - accuracy: 1.0000 - val_loss: 0.0268 - val_accuracy: 1.0000\n",
            "Epoch 60/100\n",
            "3/3 [==============================] - 0s 50ms/step - loss: 0.0221 - accuracy: 1.0000 - val_loss: 0.0300 - val_accuracy: 1.0000\n",
            "Epoch 61/100\n",
            "3/3 [==============================] - 0s 47ms/step - loss: 0.0247 - accuracy: 1.0000 - val_loss: 0.0276 - val_accuracy: 1.0000\n",
            "Epoch 62/100\n",
            "3/3 [==============================] - 0s 47ms/step - loss: 0.0217 - accuracy: 1.0000 - val_loss: 0.0251 - val_accuracy: 1.0000\n",
            "Epoch 63/100\n",
            "3/3 [==============================] - 0s 53ms/step - loss: 0.0209 - accuracy: 1.0000 - val_loss: 0.0390 - val_accuracy: 1.0000\n",
            "Epoch 64/100\n",
            "3/3 [==============================] - 0s 49ms/step - loss: 0.0283 - accuracy: 1.0000 - val_loss: 0.0354 - val_accuracy: 1.0000\n",
            "Epoch 65/100\n",
            "3/3 [==============================] - 0s 54ms/step - loss: 0.0266 - accuracy: 1.0000 - val_loss: 0.0235 - val_accuracy: 1.0000\n",
            "Epoch 66/100\n",
            "3/3 [==============================] - 0s 50ms/step - loss: 0.0194 - accuracy: 1.0000 - val_loss: 0.0230 - val_accuracy: 1.0000\n",
            "Epoch 67/100\n",
            "3/3 [==============================] - 0s 52ms/step - loss: 0.0190 - accuracy: 1.0000 - val_loss: 0.0236 - val_accuracy: 1.0000\n",
            "Epoch 68/100\n",
            "3/3 [==============================] - 0s 50ms/step - loss: 0.0186 - accuracy: 1.0000 - val_loss: 0.0236 - val_accuracy: 1.0000\n",
            "Epoch 69/100\n",
            "3/3 [==============================] - 0s 49ms/step - loss: 0.0185 - accuracy: 1.0000 - val_loss: 0.0259 - val_accuracy: 1.0000\n",
            "Epoch 70/100\n",
            "3/3 [==============================] - 0s 53ms/step - loss: 0.0191 - accuracy: 1.0000 - val_loss: 0.0252 - val_accuracy: 1.0000\n",
            "Epoch 71/100\n",
            "3/3 [==============================] - 0s 49ms/step - loss: 0.0184 - accuracy: 1.0000 - val_loss: 0.0215 - val_accuracy: 1.0000\n",
            "Epoch 72/100\n",
            "3/3 [==============================] - 0s 49ms/step - loss: 0.0173 - accuracy: 1.0000 - val_loss: 0.0215 - val_accuracy: 1.0000\n",
            "Epoch 73/100\n",
            "3/3 [==============================] - 0s 54ms/step - loss: 0.0184 - accuracy: 1.0000 - val_loss: 0.0223 - val_accuracy: 1.0000\n",
            "Epoch 74/100\n",
            "3/3 [==============================] - 0s 44ms/step - loss: 0.0176 - accuracy: 1.0000 - val_loss: 0.0273 - val_accuracy: 1.0000\n",
            "Epoch 75/100\n",
            "3/3 [==============================] - 0s 48ms/step - loss: 0.0186 - accuracy: 1.0000 - val_loss: 0.0208 - val_accuracy: 1.0000\n",
            "Epoch 76/100\n",
            "3/3 [==============================] - 0s 47ms/step - loss: 0.0164 - accuracy: 1.0000 - val_loss: 0.0210 - val_accuracy: 1.0000\n",
            "Epoch 77/100\n",
            "3/3 [==============================] - 0s 46ms/step - loss: 0.0176 - accuracy: 1.0000 - val_loss: 0.0236 - val_accuracy: 1.0000\n",
            "Epoch 78/100\n",
            "3/3 [==============================] - 0s 52ms/step - loss: 0.0210 - accuracy: 1.0000 - val_loss: 0.0248 - val_accuracy: 1.0000\n",
            "Epoch 79/100\n",
            "3/3 [==============================] - 0s 48ms/step - loss: 0.0187 - accuracy: 1.0000 - val_loss: 0.0280 - val_accuracy: 1.0000\n",
            "Epoch 80/100\n",
            "3/3 [==============================] - 0s 47ms/step - loss: 0.0176 - accuracy: 1.0000 - val_loss: 0.0188 - val_accuracy: 1.0000\n",
            "Epoch 81/100\n",
            "3/3 [==============================] - 0s 46ms/step - loss: 0.0150 - accuracy: 1.0000 - val_loss: 0.0241 - val_accuracy: 1.0000\n",
            "Epoch 82/100\n",
            "3/3 [==============================] - 0s 58ms/step - loss: 0.0197 - accuracy: 1.0000 - val_loss: 0.0244 - val_accuracy: 1.0000\n",
            "Epoch 83/100\n",
            "3/3 [==============================] - 0s 47ms/step - loss: 0.0181 - accuracy: 1.0000 - val_loss: 0.0185 - val_accuracy: 1.0000\n",
            "Epoch 84/100\n",
            "3/3 [==============================] - 0s 45ms/step - loss: 0.0140 - accuracy: 1.0000 - val_loss: 0.0214 - val_accuracy: 1.0000\n",
            "Epoch 85/100\n",
            "3/3 [==============================] - 0s 50ms/step - loss: 0.0143 - accuracy: 1.0000 - val_loss: 0.0180 - val_accuracy: 1.0000\n",
            "Epoch 86/100\n",
            "3/3 [==============================] - 0s 53ms/step - loss: 0.0134 - accuracy: 1.0000 - val_loss: 0.0177 - val_accuracy: 1.0000\n",
            "Epoch 87/100\n",
            "3/3 [==============================] - 0s 51ms/step - loss: 0.0137 - accuracy: 1.0000 - val_loss: 0.0174 - val_accuracy: 1.0000\n",
            "Epoch 88/100\n",
            "3/3 [==============================] - 0s 53ms/step - loss: 0.0131 - accuracy: 1.0000 - val_loss: 0.0178 - val_accuracy: 1.0000\n",
            "Epoch 89/100\n",
            "3/3 [==============================] - 0s 44ms/step - loss: 0.0132 - accuracy: 1.0000 - val_loss: 0.0188 - val_accuracy: 1.0000\n",
            "Epoch 90/100\n",
            "3/3 [==============================] - 0s 46ms/step - loss: 0.0153 - accuracy: 1.0000 - val_loss: 0.0165 - val_accuracy: 1.0000\n",
            "Epoch 91/100\n",
            "3/3 [==============================] - 0s 48ms/step - loss: 0.0127 - accuracy: 1.0000 - val_loss: 0.0163 - val_accuracy: 1.0000\n",
            "Epoch 92/100\n",
            "3/3 [==============================] - 0s 49ms/step - loss: 0.0125 - accuracy: 1.0000 - val_loss: 0.0175 - val_accuracy: 1.0000\n",
            "Epoch 93/100\n",
            "3/3 [==============================] - 0s 58ms/step - loss: 0.0129 - accuracy: 1.0000 - val_loss: 0.0192 - val_accuracy: 1.0000\n",
            "Epoch 94/100\n",
            "3/3 [==============================] - 0s 48ms/step - loss: 0.0129 - accuracy: 1.0000 - val_loss: 0.0170 - val_accuracy: 1.0000\n",
            "Epoch 95/100\n",
            "3/3 [==============================] - 0s 44ms/step - loss: 0.0120 - accuracy: 1.0000 - val_loss: 0.0160 - val_accuracy: 1.0000\n",
            "Epoch 96/100\n",
            "3/3 [==============================] - 0s 48ms/step - loss: 0.0117 - accuracy: 1.0000 - val_loss: 0.0165 - val_accuracy: 1.0000\n",
            "Epoch 97/100\n",
            "3/3 [==============================] - 0s 52ms/step - loss: 0.0117 - accuracy: 1.0000 - val_loss: 0.0172 - val_accuracy: 1.0000\n",
            "Epoch 98/100\n",
            "3/3 [==============================] - 0s 44ms/step - loss: 0.0117 - accuracy: 1.0000 - val_loss: 0.0157 - val_accuracy: 1.0000\n",
            "Epoch 99/100\n",
            "3/3 [==============================] - 0s 48ms/step - loss: 0.0114 - accuracy: 1.0000 - val_loss: 0.0170 - val_accuracy: 1.0000\n",
            "Epoch 100/100\n",
            "3/3 [==============================] - 0s 48ms/step - loss: 0.0118 - accuracy: 1.0000 - val_loss: 0.0157 - val_accuracy: 1.0000\n"
          ]
        }
      ]
    },
    {
      "cell_type": "code",
      "source": [
        "N = np.arange(0, max_epochs)\n",
        "plt.style.use(\"ggplot\")\n",
        "plt.figure()\n",
        "plt.plot(N, H.history[\"loss\"], label=\"train_loss\")\n",
        "plt.plot(N, H.history[\"val_loss\"], label=\"val_loss\")\n",
        "#plt.plot(N, H.history[\"accuracy\"], label=\"train_acc\")\n",
        "#plt.plot(N, H.history[\"val_accuracy\"], label=\"val_acc\")\n",
        "plt.xlabel(\"Epoch #\")\n",
        "plt.legend()\n",
        "plt.show()"
      ],
      "metadata": {
        "colab": {
          "base_uri": "https://localhost:8080/",
          "height": 282
        },
        "id": "JL487Y2WZuVf",
        "outputId": "f11cf60d-fa32-4995-b923-260efa6f270c"
      },
      "execution_count": 44,
      "outputs": [
        {
          "output_type": "display_data",
          "data": {
            "image/png": "[encoded data removed]",
            "text/plain": [
              "<Figure size 432x288 with 1 Axes>"
            ]
          },
          "metadata": {}
        }
      ]
    },
    {
      "cell_type": "code",
      "source": [
        "# menghitung nilai akurasi model terhadap data test\n",
        "predictions = model.predict(x_test, batch_size=32)\n",
        "target = (predictions > 0.5).astype(np.int)\n",
        "print(classification_report(y_test, target, target_names=label_list))\n"
      ],
      "metadata": {
        "colab": {
          "base_uri": "https://localhost:8080/"
        },
        "id": "jyA8b50bZ0J1",
        "outputId": "232ccb07-c1cd-438c-a882-ee2e1bf3397e"
      },
      "execution_count": 45,
      "outputs": [
        {
          "output_type": "stream",
          "name": "stdout",
          "text": [
            "              precision    recall  f1-score   support\n",
            "\n",
            "daun kemangi       1.00      1.00      1.00         7\n",
            " daun pepaya       1.00      1.00      1.00        11\n",
            "\n",
            "    accuracy                           1.00        18\n",
            "   macro avg       1.00      1.00      1.00        18\n",
            "weighted avg       1.00      1.00      1.00        18\n",
            "\n"
          ]
        }
      ]
    },
    {
      "cell_type": "code",
      "source": [
        "# uji model menggunakan image lain\n",
        "queryPath = imagePaths+'042.jpg'\n",
        "query = cv2.imread(queryPath)\n",
        "output = query.copy()\n",
        "query = cv2.resize(query, (32, 32))\n",
        "q = []\n",
        "q.append(query)\n",
        "q = np.array(q, dtype='float') / 255.0\n",
        "q_pred = model.predict(q)\n",
        "print(q_pred)"
      ],
      "metadata": {
        "id": "wLtcpMfKZ3Za"
      },
      "execution_count": null,
      "outputs": []
    },
    {
      "cell_type": "code",
      "source": [
        "if q_pred<=0.5 :\n",
        "    target = \"daun kemangi\"\n",
        "else :\n",
        "    target = \"daun pepaya\"\n",
        "text = \"{}\".format(target)\n",
        "cv2.putText(output, text, (10, 30), cv2.FONT_HERSHEY_SIMPLEX, 0.7, (0, 0, 255), 2)\n",
        "# menampilkan output image\n",
        "cv2_imshow(output)"
      ],
      "metadata": {
        "id": "ouBf79rlZ4JF"
      },
      "execution_count": null,
      "outputs": []
    }
  ]
}