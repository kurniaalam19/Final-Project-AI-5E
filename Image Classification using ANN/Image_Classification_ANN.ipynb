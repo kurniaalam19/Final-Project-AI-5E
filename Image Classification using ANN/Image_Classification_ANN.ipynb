{
  "nbformat": 4,
  "nbformat_minor": 0,
  "metadata": {
    "colab": {
      "name": "Image Classification ANN",
      "provenance": []
    },
    "kernelspec": {
      "name": "python3",
      "display_name": "Python 3"
    },
    "language_info": {
      "name": "python"
    }
  },
  "cells": [
    {
      "cell_type": "code",
      "source": [
        "from sklearn.model_selection import train_test_split\n",
        "from sklearn.preprocessing import LabelEncoder\n",
        "from sklearn.metrics import classification_report\n",
        "from tensorflow.keras.models import Sequential\n",
        "from tensorflow.keras.layers import Flatten, Dense\n",
        "from tensorflow.keras.optimizers import SGD\n",
        "import numpy as np\n",
        "import cv2\n",
        "import glob\n",
        "import matplotlib.pyplot as plt\n",
        "from google.colab.patches import cv2_imshow"
      ],
      "metadata": {
        "id": "CF_liJz0ZEy2"
      },
      "execution_count": null,
      "outputs": []
    },
    {
      "cell_type": "code",
      "source": [
        "imagePaths = 'DATASET/'\n",
        "label_list = ['daun kemangi', 'daun pepaya']\n",
        "data = []\n",
        "labels = []"
      ],
      "metadata": {
        "id": "i2QPq7ZyZLej"
      },
      "execution_count": 2,
      "outputs": []
    },
    {
      "cell_type": "code",
      "source": [
        "for label in label_list:\n",
        "    for imagePath in glob.glob(imagePaths+label+'/*.jpg'):\n",
        "    #print(imagePath)\n",
        "        image = cv2.imread(imagePath)\n",
        "        image = cv2.resize(image, (32, 32))\n",
        "        data.append(image)\n",
        "        labels.append(label)"
      ],
      "metadata": {
        "id": "AjEeiykbZNEt"
      },
      "execution_count": 3,
      "outputs": []
    },
    {
      "cell_type": "code",
      "source": [
        "np.array(data).shape"
      ],
      "metadata": {
        "id": "hAI0o4-qZPvd"
      },
      "execution_count": null,
      "outputs": []
    },
    {
      "cell_type": "code",
      "source": [
        "# ubah type data dari list menjadi array\n",
        "# ubah nilai dari tiap pixel menjadi range [0..1]\n",
        "data = np.array(data, dtype='float') / 255.0\n",
        "labels = np.array(labels)"
      ],
      "metadata": {
        "id": "L9auqabcZSPY"
      },
      "execution_count": 5,
      "outputs": []
    },
    {
      "cell_type": "code",
      "source": [
        "print(labels)"
      ],
      "metadata": {
        "id": "aV73NELnZUNg"
      },
      "execution_count": null,
      "outputs": []
    },
    {
      "cell_type": "code",
      "source": [
        "# ubah nilai dari labels menjadi binary\n",
        "lb = LabelEncoder()\n",
        "labels = lb.fit_transform(labels)\n",
        "print(labels)"
      ],
      "metadata": {
        "id": "sJJWvQzxZWBV"
      },
      "execution_count": null,
      "outputs": []
    },
    {
      "cell_type": "code",
      "source": [
        "x_train, x_test, y_train, y_test = train_test_split(data, labels, test_size=0.2, random_state=42)"
      ],
      "metadata": {
        "id": "eCQ1-TSNZdR8"
      },
      "execution_count": null,
      "outputs": []
    },
    {
      "cell_type": "code",
      "source": [
        "print('Ukuran data train =', x_train.shape)\n",
        "print('Ukuran data test =', x_test.shape)"
      ],
      "metadata": {
        "id": "rbpocPYMZd6y"
      },
      "execution_count": null,
      "outputs": []
    },
    {
      "cell_type": "code",
      "source": [
        "model = Sequential()\n",
        "model.add(Flatten(input_shape=(32,32,3)))\n",
        "model.add(Dense(1024, activation=\"relu\"))\n",
        "model.add(Dense(1024, activation=\"relu\"))\n",
        "model.add(Dense(1, activation=\"sigmoid\"))"
      ],
      "metadata": {
        "id": "lq8m7bbVZgLc"
      },
      "execution_count": null,
      "outputs": []
    },
    {
      "cell_type": "code",
      "source": [
        "model.summary()"
      ],
      "metadata": {
        "id": "V8AqMXiLZi74"
      },
      "execution_count": null,
      "outputs": []
    },
    {
      "cell_type": "code",
      "source": [
        "# tentukan hyperparameter\\n\",\n",
        "lr = 0.01\n",
        "max_epochs = 100\n",
        "opt_funct = SGD(learning_rate=lr)"
      ],
      "metadata": {
        "id": "VY1Yhyl4ZmLz"
      },
      "execution_count": null,
      "outputs": []
    },
    {
      "cell_type": "code",
      "source": [
        "# compile arsitektur yang telah dibuat\\n\",\n",
        "model.compile(loss = 'binary_crossentropy',\n",
        "              optimizer = opt_funct, \n",
        "              metrics = ['accuracy'])"
      ],
      "metadata": {
        "id": "yD9oUDkiZnlT"
      },
      "execution_count": null,
      "outputs": []
    },
    {
      "cell_type": "code",
      "source": [
        "H = model.fit(x_train, y_train, validation_data=(x_test, y_test), \n",
        "            epochs=max_epochs, batch_size=32)\n"
      ],
      "metadata": {
        "id": "YBzDyPHrZrEV"
      },
      "execution_count": null,
      "outputs": []
    },
    {
      "cell_type": "code",
      "source": [
        "N = np.arange(0, max_epochs)\n",
        "plt.style.use(\"ggplot\")\n",
        "plt.figure()\n",
        "plt.plot(N, H.history[\"loss\"], label=\"train_loss\")\n",
        "plt.plot(N, H.history[\"val_loss\"], label=\"val_loss\")\n",
        "#plt.plot(N, H.history[\"accuracy\"], label=\"train_acc\")\n",
        "#plt.plot(N, H.history[\"val_accuracy\"], label=\"val_acc\")\n",
        "plt.xlabel(\"Epoch #\")\n",
        "plt.legend()\n",
        "plt.show()"
      ],
      "metadata": {
        "id": "JL487Y2WZuVf"
      },
      "execution_count": null,
      "outputs": []
    },
    {
      "cell_type": "code",
      "source": [
        "# menghitung nilai akurasi model terhadap data test\n",
        "predictions = model.predict(x_test, batch_size=32)\n",
        "target = (predictions > 0.5).astype(np.int)\n",
        "print(classification_report(y_test, target, target_names=label_list))\n"
      ],
      "metadata": {
        "id": "jyA8b50bZ0J1"
      },
      "execution_count": null,
      "outputs": []
    },
    {
      "cell_type": "code",
      "source": [
        "# uji model menggunakan image lain\n",
        "queryPath = imagePaths+'042.jpg'\n",
        "query = cv2.imread(queryPath)\n",
        "output = query.copy()\n",
        "query = cv2.resize(query, (32, 32))\n",
        "q = []\n",
        "q.append(query)\n",
        "q = np.array(q, dtype='float') / 255.0\n",
        "q_pred = model.predict(q)\n",
        "print(q_pred)"
      ],
      "metadata": {
        "id": "wLtcpMfKZ3Za"
      },
      "execution_count": null,
      "outputs": []
    },
    {
      "cell_type": "code",
      "source": [
        "if q_pred<=0.5 :\n",
        "    target = \"daun kemangi\"\n",
        "else :\n",
        "    target = \"daun pepaya\"\n",
        "text = \"{}\".format(target)\n",
        "cv2.putText(output, text, (10, 30), cv2.FONT_HERSHEY_SIMPLEX, 0.7, (0, 0, 255), 2)\n",
        "# menampilkan output image\n",
        "cv2_imshow(output)"
      ],
      "metadata": {
        "id": "ouBf79rlZ4JF"
      },
      "execution_count": null,
      "outputs": []
    }
  ]
}